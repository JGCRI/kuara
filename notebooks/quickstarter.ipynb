{
 "cells": [
  {
   "cell_type": "markdown",
   "id": "1175576c-6c54-473e-a8ce-862aab3f2bd4",
   "metadata": {},
   "source": [
    "# Welcome to the kuara quickstarter"
   ]
  },
  {
   "cell_type": "markdown",
   "id": "060643d4-7b15-4961-bea1-8bc0eb765cfe",
   "metadata": {},
   "source": [
    "#### A geospatial package to estimate the technical and economic potential of renewable resources"
   ]
  },
  {
   "cell_type": "markdown",
   "id": "ce8588d8-38c5-4635-81ca-0caf5c30412e",
   "metadata": {},
   "source": [
    "## Purpose"
   ]
  },
  {
   "cell_type": "markdown",
   "id": "b5d9dd00-e42f-464d-9c6e-558f30c655aa",
   "metadata": {},
   "source": [
    "`kuara` was created to:\n",
    "- asdf\n",
    "- asdf\n",
    "- asdf\n"
   ]
  },
  {
   "cell_type": "markdown",
   "id": "a0098a1a-cd42-4703-8e7a-1368d1a1902b",
   "metadata": {},
   "source": [
    "## A brief introduction"
   ]
  },
  {
   "cell_type": "markdown",
   "id": "8e80f3cf-956e-4f7c-9251-1769e0cc73e8",
   "metadata": {},
   "source": [
    "asdf"
   ]
  },
  {
   "cell_type": "code",
   "execution_count": null,
   "id": "2c132bd7-f91e-49ab-a628-369222ee5fc5",
   "metadata": {},
   "outputs": [],
   "source": []
  },
  {
   "cell_type": "markdown",
   "id": "7a0a766b-9827-4219-bba4-507958fb28c1",
   "metadata": {},
   "source": [
    "## Load packages"
   ]
  },
  {
   "cell_type": "code",
   "execution_count": null,
   "id": "fd7b5409-96b4-4a6e-9fce-1d619a38ef64",
   "metadata": {},
   "outputs": [],
   "source": [
    "import kuara\n"
   ]
  },
  {
   "cell_type": "markdown",
   "id": "9176d492-011c-4052-8050-21dadbfc6a78",
   "metadata": {},
   "source": [
    "## Install package data"
   ]
  },
  {
   "cell_type": "markdown",
   "id": "16ab1c92-3ee3-42c7-ac83-9145c1fa58ef",
   "metadata": {},
   "source": [
    "NOTE: The package data will require approximately ??? MB of storage"
   ]
  },
  {
   "cell_type": "code",
   "execution_count": null,
   "id": "92c2ac51-e5df-44c5-8ff4-e3306f8a25c1",
   "metadata": {},
   "outputs": [],
   "source": [
    "kuara.install_package_data()\n"
   ]
  },
  {
   "cell_type": "markdown",
   "id": "f220fe7e-3def-4a17-b6b4-1c60a5aaac21",
   "metadata": {},
   "source": [
    "## Preprocessing the climate data"
   ]
  },
  {
   "cell_type": "code",
   "execution_count": null,
   "id": "48792921-1bcd-42ce-8dc5-6d2893a727b3",
   "metadata": {},
   "outputs": [],
   "source": []
  },
  {
   "cell_type": "code",
   "execution_count": null,
   "id": "3933d32c-90d7-46cf-8744-a2ff84757670",
   "metadata": {},
   "outputs": [],
   "source": []
  },
  {
   "cell_type": "markdown",
   "id": "47fba733-847e-4df2-aff6-91bfa274527a",
   "metadata": {},
   "source": [
    "## Evaluating technical potential"
   ]
  },
  {
   "cell_type": "code",
   "execution_count": null,
   "id": "0ecdeb98-2021-43f0-b169-a4583f456158",
   "metadata": {},
   "outputs": [],
   "source": []
  },
  {
   "cell_type": "code",
   "execution_count": null,
   "id": "0ae22d0f-3707-40dc-bffd-9ded957d0647",
   "metadata": {},
   "outputs": [],
   "source": [
    "kuara.do_this()\n"
   ]
  }
 ],
 "metadata": {
  "kernelspec": {
   "display_name": "py3.9.4_kuara",
   "language": "python",
   "name": "py3.9.4_kuara"
  },
  "language_info": {
   "codemirror_mode": {
    "name": "ipython",
    "version": 3
   },
   "file_extension": ".py",
   "mimetype": "text/x-python",
   "name": "python",
   "nbconvert_exporter": "python",
   "pygments_lexer": "ipython3",
   "version": "3.9.4"
  }
 },
 "nbformat": 4,
 "nbformat_minor": 5
}
